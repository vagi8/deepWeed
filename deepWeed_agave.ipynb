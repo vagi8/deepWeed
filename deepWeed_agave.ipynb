{
  "nbformat": 4,
  "nbformat_minor": 0,
  "metadata": {
    "colab": {
      "name": "deepWeed_agave.ipynb",
      "provenance": [],
      "authorship_tag": "ABX9TyOz2MJesgXSmuYYVeOtz0UD",
      "include_colab_link": true
    },
    "kernelspec": {
      "name": "python3",
      "display_name": "Python 3"
    },
    "language_info": {
      "name": "python"
    }
  },
  "cells": [
    {
      "cell_type": "markdown",
      "metadata": {
        "id": "view-in-github",
        "colab_type": "text"
      },
      "source": [
        "<a href=\"https://colab.research.google.com/github/vagi8/deepWeed/blob/main/deepWeed_agave.ipynb\" target=\"_parent\"><img src=\"https://colab.research.google.com/assets/colab-badge.svg\" alt=\"Open In Colab\"/></a>"
      ]
    },
    {
      "cell_type": "code",
      "metadata": {
        "id": "NiacI6DMDleF"
      },
      "source": [
        "import pickle\n",
        "import numpy as np\n",
        "import pandas as pd\n",
        "import matplotlib.pyplot as plt\n",
        "from sklearn.model_selection import train_test_split"
      ],
      "execution_count": null,
      "outputs": []
    },
    {
      "cell_type": "code",
      "metadata": {
        "colab": {
          "base_uri": "https://localhost:8080/"
        },
        "id": "0PTvGSLU7cdO",
        "outputId": "4937ca14-209a-4fc1-b47b-a644f7f02784"
      },
      "source": [
        "path=''"
      ],
      "execution_count": null,
      "outputs": [
        {
          "output_type": "stream",
          "name": "stdout",
          "text": [
            "Drive already mounted at /content/drive/; to attempt to forcibly remount, call drive.mount(\"/content/drive/\", force_remount=True).\n"
          ]
        }
      ]
    },
    {
      "cell_type": "code",
      "metadata": {
        "id": "9B-01oOfj2mZ"
      },
      "source": [
        "import matplotlib\n",
        "from matplotlib.colors import ListedColormap\n",
        "import matplotlib.pyplot as plt\n",
        "import seaborn as sns\n",
        "sns.set()\n",
        "import cv2\n",
        "import random\n",
        "from datetime import datetime\n",
        "from glob import glob\n",
        "from os import listdir\n",
        "import pickle\n",
        "from skimage import io"
      ],
      "execution_count": null,
      "outputs": []
    },
    {
      "cell_type": "code",
      "metadata": {
        "id": "6a5nVmqJJMII"
      },
      "source": [
        "from sklearn.model_selection import train_test_split\n",
        "import keras.backend as K\n",
        "from keras.utils.np_utils import to_categorical\n",
        "from keras.models import Sequential,model_from_json\n",
        "from keras.layers import Dense, Dropout, Flatten\n",
        "from tensorflow.keras.metrics import BinaryAccuracy, Precision,Recall,AUC\n",
        "from tensorflow.keras.callbacks import ReduceLROnPlateau, ModelCheckpoint, EarlyStopping\n",
        "from tensorflow.keras.applications import VGG16,ResNet50"
      ],
      "execution_count": null,
      "outputs": []
    },
    {
      "cell_type": "code",
      "metadata": {
        "id": "_aLk2TrF7aP8"
      },
      "source": [
        "with open(path+'weed_train_array.pkl', 'rb') as input:\n",
        "    data = pickle.load(input)"
      ],
      "execution_count": null,
      "outputs": []
    },
    {
      "cell_type": "code",
      "metadata": {
        "colab": {
          "base_uri": "https://localhost:8080/"
        },
        "id": "Uoo8-mj68MQ3",
        "outputId": "f359f717-7b9d-4fb0-de32-e3476c3dbfd4"
      },
      "source": [
        "combined_data=np.array(data)\n",
        "X = []\n",
        "y = []\n",
        "specices=[]\n",
        "for features,label,specice in combined_data:\n",
        "    X.append(features)\n",
        "    y.append(label)\n",
        "    if specice not in specices:\n",
        "      specices.append(specice)\n",
        "\n",
        "# reshape X data to make valid 4D data with numpy\n",
        "X = np.array(X).reshape(-1, 64, 64, 3)"
      ],
      "execution_count": null,
      "outputs": [
        {
          "output_type": "stream",
          "name": "stderr",
          "text": [
            "/usr/local/lib/python3.7/dist-packages/ipykernel_launcher.py:1: VisibleDeprecationWarning: Creating an ndarray from ragged nested sequences (which is a list-or-tuple of lists-or-tuples-or ndarrays with different lengths or shapes) is deprecated. If you meant to do this, you must specify 'dtype=object' when creating the ndarray\n",
            "  \"\"\"Entry point for launching an IPython kernel.\n"
          ]
        }
      ]
    },
    {
      "cell_type": "code",
      "metadata": {
        "id": "yQKJEc7B9lN6"
      },
      "source": [
        "#creating a Map for labels\n",
        "\n",
        "unique_label=set(y)"
      ],
      "execution_count": null,
      "outputs": []
    },
    {
      "cell_type": "code",
      "metadata": {
        "id": "_7LPzh2dDe6S"
      },
      "source": [
        "# dog_breed=['great_pyrenees','kuvasz','american_staffordshire_terrier','welsh_springer_spaniel','curly-coated_retriever','irish_water_spaniel','brittany_spaniel','miniature_pinscher','siberian_husky','silky_terrier','soft-coated_wheaten_terrier','staffordshire_bullterrier','standard_poodle','standard_schnauzer','sussex_spaniel','tibetan_mastiff','tibetan_terrier','toy_poodle','scottish_deerhound','maltese_dog']\n",
        "# len(dog_breed)\n",
        "# images=[]\n",
        "# for i in dog_breed:\n",
        "#   images.append(X[y.index(i)])"
      ],
      "execution_count": null,
      "outputs": []
    },
    {
      "cell_type": "code",
      "metadata": {
        "id": "Got5A3THDJfn"
      },
      "source": [
        "import matplotlib.pyplot as plt\n",
        "from PIL.Image import Image as PilImage\n",
        "import textwrap, os\n",
        "\n",
        "def display_images(\n",
        "    images: [PilImage], labels,\n",
        "    columns=5, width=20, height=8, max_images=15, \n",
        "    label_wrap_length=50, label_font_size=8):\n",
        "\n",
        "    if not images:\n",
        "        print(\"No images to display.\")\n",
        "        return \n",
        "\n",
        "    # if len(images) > max_images:\n",
        "    #     print(f\"Showing {max_images} images of {len(images)}:\")\n",
        "    #     images=images[0:max_images]\n",
        "\n",
        "    height = max(height, int(len(images)/columns) * height)\n",
        "    plt.figure(figsize=(width, height))\n",
        "    for i, image in enumerate(images):\n",
        "\n",
        "        plt.subplot(int(len(images) / columns + 1), columns, i + 1)\n",
        "        plt.imshow(image)\n",
        "        plt.title(labels[i])\n",
        "        # if hasattr(image, 'filename'):\n",
        "        #     title=image.filename\n",
        "        #     if title.endswith(\"/\"): title = title[0:-1]\n",
        "        #     title=os.path.basename(title)\n",
        "        #     title=textwrap.wrap(title, label_wrap_length)\n",
        "        #     title=\"\\n\".join(title)\n",
        "        #     plt.title(title, fontsize=label_font_size); "
      ],
      "execution_count": null,
      "outputs": []
    },
    {
      "cell_type": "code",
      "metadata": {
        "id": "NBv_-Gt-DYsG"
      },
      "source": [
        "# display_images(images,dog_breed)\n",
        "# img = X[y.index(118)]\n",
        "# display_images([img],['boston_bull'])"
      ],
      "execution_count": null,
      "outputs": []
    },
    {
      "cell_type": "code",
      "metadata": {
        "id": "crNeFMAPOQsw"
      },
      "source": [
        "# unique_label=list(unique_label)\n",
        "# for i in range(len(y)):\n",
        "#   y[i]=unique_label.index(y[i])"
      ],
      "execution_count": null,
      "outputs": []
    },
    {
      "cell_type": "code",
      "metadata": {
        "id": "4WVuczpt8XBp"
      },
      "source": [
        "X_train, X_test, y_train, y_test = train_test_split(X, y, test_size=0.20, random_state=42)\n",
        "X_train, X_val, y_train, y_val = train_test_split(X_train, y_train, test_size=0.30, random_state=42)\n",
        "y_train = to_categorical(y_train)\n",
        "y_val = to_categorical(y_val)\n",
        "y_test = to_categorical(y_test)\n",
        "print(X_train.shape, X_test.shape, y_train.shape, y_test.shape,X_val.shape,y_val.shape)\n"
      ],
      "execution_count": null,
      "outputs": []
    },
    {
      "cell_type": "code",
      "metadata": {
        "id": "sWXdWTc9kLkb"
      },
      "source": [
        "#loading vgg16 as base model \n",
        "base_model = VGG16(input_shape=(64,64,3),include_top=False,weights=\"imagenet\")\n",
        "\n",
        "# Freezing base model Layers \n",
        "for layer in base_model.layers:\n",
        "    layer.trainable=False\n",
        "    \n",
        "# Building our custom model layers on top of base model \n",
        "model=Sequential()\n",
        "model.add(base_model)\n",
        "model.add(Dropout(0.5))\n",
        "model.add(Flatten())\n",
        "# model.add(Dense(2,activation='softmax'))\n",
        "model.add(Dense(9,activation='sigmoid'))\n",
        "\n",
        "# defining f1_scroe mteric algorithm\n",
        "def f1_score(y_true, y_pred):\n",
        "    true_positives_values = K.sum(K.round(K.clip(y_true * y_pred, 0, 1)))\n",
        "    possible_positive_value = K.sum(K.round(K.clip(y_true, 0, 1)))\n",
        "    predicted_positives_value = K.sum(K.round(K.clip(y_pred, 0, 1)))\n",
        "    precision = true_positives_values / (predicted_positives_value + K.epsilon())\n",
        "    recall = true_positives_values / (possible_positive_value + K.epsilon())\n",
        "    f1_val = 2*(precision*recall)/(precision+recall+K.epsilon())\n",
        "    return f1_val\n",
        "\n",
        "# Model metrics options\n",
        "METRICS = [BinaryAccuracy(name='accuracy'),Precision(name='precision'),Recall(name='recall'),AUC(name='auc'),f1_score]\n",
        "\n",
        "# Using this we can improve out effciency of traning\n",
        "# This primarily Reduces learning rate when a metric has stopped improving.\n",
        "\n",
        "reducelr_plateau = ReduceLROnPlateau(monitor = 'val_loss',patience = 5,verbose = 1,factor = 0.75, min_lr = 1e-10)\n",
        "\n",
        "# create a model checkpoint (save a model locally so to be used later.) \n",
        "# A checkpoint works like a race checkpoint. Even if model has stoped training in the middle, one can continue traning from that checkpoint\n",
        "model_checkpoint = ModelCheckpoint(filepath=path+str(datetime.now()) + 'VGG16_model.h5',save_freq='epoch',period=1)\n",
        "\n",
        "# This will stop training when a monitored metric has stopped improving\n",
        "early_stopping = EarlyStopping(verbose=1, patience=5)\n",
        "\n",
        "# Configuring our model\n",
        "model.compile(optimizer='Adam', loss='binary_crossentropy',metrics=METRICS)\n",
        "\n",
        "# Training\n",
        "history=model.fit(X_train, y_train,validation_data=(X_test, y_test),verbose = 1,epochs = 3,callbacks=[reducelr_plateau,model_checkpoint,early_stopping])\n",
        "\n",
        "# serialize model architecture to JSON\n",
        "model_json = model.to_json()\n",
        "with open(path+str(datetime.now())+\"VGG16_model.json\", \"w\") as json_file:\n",
        "    json_file.write(model_json)\n",
        "# with open(path+str(datetime.now())+'VGG16_history.pkl', 'wb') as output:\n",
        "#   pickle.dump(idc_class_0_array, output, pickle.HIGHEST_PROTOCOL)\n",
        "# serialize weights to HDF5\n",
        "# model.save_weights(\"model.h5\")\n",
        "print(\"Saved model to disk\")\n",
        "#%% PLOTTING RESULTS (Train vs Validation FOLDER 1)\n",
        "\n",
        "# Function to create model training stats\n",
        "def train_Validation_plot(acc,val_acc,loss,val_loss,auc,val_auc,precision,val_precision,f1,val_f1):\n",
        "    fig, (ax1, ax2,ax3,ax4,ax5) = plt.subplots(1,5, figsize= (20,5))\n",
        "    fig.suptitle(\"Visualization of Model\")\n",
        "    \n",
        "    # Figure 1\n",
        "    fig,ax = plt.subplots(figsize= (20,5))\n",
        "    ax.plot(range(1, len(acc) + 1), acc)\n",
        "    ax.plot(range(1, len(val_acc) + 1), val_acc)\n",
        "    ax.set_title('Accuracy')\n",
        "    ax.set_xlabel('Epochs')\n",
        "    ax.set_ylabel('Accuracy')\n",
        "    ax.legend(['training', 'validation'])\n",
        "    \n",
        "    # Figure 2\n",
        "    fig,ax = plt.subplots(figsize= (20,5))\n",
        "    ax.plot(range(1, len(loss) + 1), loss)\n",
        "    ax.plot(range(1, len(val_loss) + 1), val_loss)\n",
        "    ax.set_title('Loss Curve')\n",
        "    ax.set_xlabel('Epochs')\n",
        "    ax.set_ylabel('Loss')\n",
        "    ax.legend(['training', 'validation'])\n",
        "    \n",
        "    # Figure 3\n",
        "    fig,ax = plt.subplots(figsize= (20,5))\n",
        "    ax.plot(range(1, len(auc) + 1), auc)\n",
        "    ax.plot(range(1, len(val_auc) + 1), val_auc)\n",
        "    ax.set_title('AUC Curve')\n",
        "    ax.set_xlabel('Epochs')\n",
        "    ax.set_ylabel('AUC')\n",
        "    ax.legend(['training', 'validation'])\n",
        "    \n",
        "    # Figure 4\n",
        "    fig,ax = plt.subplots(figsize= (20,5))\n",
        "    ax.plot(range(1, len(precision) + 1), precision)\n",
        "    ax.plot(range(1, len(val_precision) + 1), val_precision)\n",
        "    ax.set_title('Precision')\n",
        "    ax.set_xlabel('Epochs')\n",
        "    ax.set_ylabel('Precision')\n",
        "    ax.legend(['training', 'validation'])\n",
        "    \n",
        "    # Figure 5\n",
        "    fig,ax = plt.subplots(figsize= (20,5))\n",
        "    ax.plot(range(1, len(f1) + 1), f1)\n",
        "    ax.plot(range(1, len(val_f1) + 1), val_f1)\n",
        "    ax.set_title('F1-score')\n",
        "    ax.set_xlabel('Epochs')\n",
        "    ax.set_ylabel('F1 score')\n",
        "    ax.legend(['training', 'validation'])\n",
        "    \n",
        "    plt.show()\n",
        "\n",
        "# Getting model stats Graph\n",
        "train_Validation_plot(history.history['accuracy'],history.history['val_accuracy'],history.history['loss'],history.history['val_loss'],history.history['auc'],history.history['val_auc'],history.history['precision'],history.history['val_precision'],history.history['f1_score'],history.history['val_f1_score'])\n",
        "final_model=model\n"
      ],
      "execution_count": null,
      "outputs": []
    },
    {
      "cell_type": "code",
      "metadata": {
        "id": "WeUFodyFBUUI"
      },
      "source": [
        "saved_model_config_path = '/content/drive/MyDrive/2021-11-02 07:22:18.859958VGG16_model.json'\n",
        "saved_model_weights_path = '/content/drive/MyDrive/2021-11-02 06:54:54.906552VGG16_model.h5'\n",
        "json_file = open(saved_model_config_path, 'r')\n",
        "loaded_model_json = json_file.read()\n",
        "json_file.close()"
      ],
      "execution_count": null,
      "outputs": []
    },
    {
      "cell_type": "code",
      "metadata": {
        "colab": {
          "base_uri": "https://localhost:8080/"
        },
        "id": "YmP1cliNBCaY",
        "outputId": "3489da3b-36f3-47a8-f85f-a6045d6c7893"
      },
      "source": [
        "loaded_model = model_from_json(loaded_model_json)\n",
        "# load weights into new model\n",
        "loaded_model.load_weights(saved_model_weights_path)\n",
        "print(\"Loaded model from disk\")\n",
        "  \n",
        "# evaluate loaded model on test data\n",
        "loaded_model.compile(loss='binary_crossentropy', optimizer='rmsprop', metrics=['accuracy'])\n",
        "# score = loaded_model.evaluate(X, np.array(y), verbose=0)\n",
        "# print(\"%s: %.2f%%\" % (loaded_model.metrics_names[1], score[1]*100))\n",
        "final_model=loaded_model"
      ],
      "execution_count": null,
      "outputs": [
        {
          "output_type": "stream",
          "name": "stdout",
          "text": [
            "Loaded model from disk\n"
          ]
        }
      ]
    },
    {
      "cell_type": "code",
      "metadata": {
        "id": "ZefVGCuO-fng"
      },
      "source": [
        "# test_img_path= '/content/drive/MyDrive/0a7899ed6a15f4af8f28e01c9c44dcfe.jpg'\n",
        "# img = cv2.imread(test_img_path,cv2.IMREAD_COLOR)\n",
        "# img_sized = cv2.resize(img, (128, 128), interpolation=cv2.INTER_LINEAR)\n",
        "# Xnew = np.array(img_sized).reshape(-1,128, 128, 3)\n",
        "# ynew = final_model.predict(Xnew)\n",
        "# pred=ynew.tolist()\n",
        "# unique_label[pred[0].index(max(pred[0]))]"
      ],
      "execution_count": null,
      "outputs": []
    },
    {
      "cell_type": "code",
      "metadata": {
        "id": "bjUQo7BsEZWT"
      },
      "source": [
        "unique_label=list(unique_label)\n",
        "y_pred=[]\n",
        "i=0\n",
        "for img in X_val:\n",
        "  img = np.array(img).reshape(-1,64, 64, 3)\n",
        "  ynew = final_model.predict(img)\n",
        "  pred = ynew.tolist()\n",
        "  temp=unique_label[pred[0].index(max(pred[0]))]\n",
        "  print(f\"{i} = {temp}\")\n",
        "  y_pred.append(temp)\n",
        "  i+=1"
      ],
      "execution_count": null,
      "outputs": []
    },
    {
      "cell_type": "code",
      "metadata": {
        "id": "BtdV4pSlSU9F"
      },
      "source": [
        "import matplotlib as mpl\n",
        "import matplotlib.pyplot as plt\n",
        "import matplotlib.pylab as pylab\n",
        "import seaborn as sns\n",
        "import missingno as msno\n",
        "from sklearn.metrics import confusion_matrix, classification_report"
      ],
      "execution_count": null,
      "outputs": []
    },
    {
      "cell_type": "code",
      "metadata": {
        "id": "FsE8LM7nSBR8"
      },
      "source": [
        "def plot_confusion_matrix(cm,\n",
        "                          target_names,\n",
        "                          title='Confusion matrix',\n",
        "                          cmap=None,\n",
        "                          normalize=True):\n",
        "    import matplotlib.pyplot as plt\n",
        "    import numpy as np\n",
        "    import itertools\n",
        "\n",
        "    accuracy = np.trace(cm) / np.sum(cm).astype('float')\n",
        "    misclass = 1 - accuracy\n",
        "\n",
        "    if cmap is None:\n",
        "        cmap = plt.get_cmap('Blues')\n",
        "\n",
        "    plt.figure(figsize=(15, 10))\n",
        "    plt.imshow(cm, interpolation='nearest', cmap=cmap)\n",
        "    plt.title(title)\n",
        "    plt.colorbar()\n",
        "\n",
        "    if target_names is not None:\n",
        "        tick_marks = np.arange(len(target_names))\n",
        "        plt.xticks(tick_marks, target_names, rotation=45)\n",
        "        plt.yticks(tick_marks, target_names)\n",
        "\n",
        "    if normalize:\n",
        "        cm = cm.astype('float') / cm.sum(axis=1)[:, np.newaxis]\n",
        "\n",
        "\n",
        "    thresh = cm.max() / 1.5 if normalize else cm.max() / 2\n",
        "    for i, j in itertools.product(range(cm.shape[0]), range(cm.shape[1])):\n",
        "        if normalize:\n",
        "            plt.text(j, i, \"{:0.4f}\".format(cm[i, j]),\n",
        "                     horizontalalignment=\"center\",\n",
        "                     color=\"white\" if cm[i, j] > thresh else \"black\")\n",
        "        else:\n",
        "            plt.text(j, i, \"{:,}\".format(cm[i, j]),\n",
        "                     horizontalalignment=\"center\",\n",
        "                     color=\"white\" if cm[i, j] > thresh else \"black\")\n",
        "\n",
        "\n",
        "    plt.tight_layout()\n",
        "    plt.ylabel('True label')\n",
        "    plt.xlabel('Predicted label\\naccuracy={:0.4f}; misclass={:0.4f}'.format(accuracy, misclass))\n",
        "    plt.show()"
      ],
      "execution_count": null,
      "outputs": []
    },
    {
      "cell_type": "code",
      "metadata": {
        "colab": {
          "base_uri": "https://localhost:8080/"
        },
        "id": "IgzUtbPOxgsw",
        "outputId": "8e89c6df-c3ef-4df1-87cc-87c73d2c7f9f"
      },
      "source": [
        "print(type(y_val))\n",
        "print(len(y_pred))"
      ],
      "execution_count": null,
      "outputs": [
        {
          "output_type": "stream",
          "name": "stdout",
          "text": [
            "<class 'list'>\n",
            "4203\n"
          ]
        }
      ]
    },
    {
      "cell_type": "code",
      "metadata": {
        "colab": {
          "base_uri": "https://localhost:8080/",
          "height": 757
        },
        "id": "BzaDcHCWxeLg",
        "outputId": "b8fb7c9e-b335-4f3f-f7ac-0da4abd7fcde"
      },
      "source": [
        "all_labels_list=y_val\n",
        "all_preds_list=y_pred\n",
        "plot_confusion_matrix(cm=confusion_matrix(y_true=all_labels_list, y_pred=all_preds_list), target_names=specices, normalize=False)"
      ],
      "execution_count": null,
      "outputs": [
        {
          "output_type": "display_data",
          "data": {
            "image/png": "[encoded data removed]",
            "text/plain": [
              "<Figure size 1080x720 with 2 Axes>"
            ]
          },
          "metadata": {}
        }
      ]
    },
    {
      "cell_type": "code",
      "metadata": {
        "colab": {
          "base_uri": "https://localhost:8080/"
        },
        "id": "9ywi3lnUcENv",
        "outputId": "fc37886d-67a9-41f1-c3e0-9fb9986e842f"
      },
      "source": [
        "from sklearn.metrics import classification_report\n",
        "print(classification_report(y_val, y_pred, target_names=specices))"
      ],
      "execution_count": null,
      "outputs": [
        {
          "output_type": "stream",
          "name": "stdout",
          "text": [
            "                precision    recall  f1-score   support\n",
            "\n",
            "  Chinee apple       0.31      0.15      0.20       274\n",
            "       Lantana       0.35      0.40      0.38       253\n",
            "      Negative       0.28      0.84      0.42       270\n",
            "    Snake weed       0.44      0.24      0.31       248\n",
            "     Siam weed       0.72      0.18      0.29       264\n",
            "Prickly acacia       0.50      0.13      0.20       238\n",
            "    Parthenium       0.54      0.27      0.37       251\n",
            "   Rubber vine       0.40      0.33      0.36       240\n",
            "   Parkinsonia       0.68      0.75      0.71      2165\n",
            "\n",
            "      accuracy                           0.54      4203\n",
            "     macro avg       0.47      0.37      0.36      4203\n",
            "  weighted avg       0.56      0.54      0.52      4203\n",
            "\n"
          ]
        }
      ]
    }
  ]
}